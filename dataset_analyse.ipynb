{
 "cells": [
  {
   "cell_type": "code",
   "execution_count": 71,
   "metadata": {},
   "outputs": [],
   "source": [
    "import pandas as pd\n",
    "import cv2\n",
    "import json\n",
    "import matplotlib.pyplot as plt\n",
    "from PIL import Image\n",
    "\n",
    "from monai.transforms import (\n",
    "    Compose,\n",
    "    LoadImage,\n",
    "    SpatialCrop,\n",
    "    Resize,\n",
    "    RandRotate,\n",
    "    RandFlip,\n",
    "    RandZoom,\n",
    "    EnsureType,\n",
    "    Lambda\n",
    ")\n",
    "from monai.data import Dataset, DataLoader"
   ]
  },
  {
   "cell_type": "code",
   "execution_count": 72,
   "metadata": {},
   "outputs": [
    {
     "name": "stdout",
     "output_type": "stream",
     "text": [
      "Количество исследований в сбалансированном датасете: 384\n"
     ]
    },
    {
     "data": {
      "text/html": [
       "<div>\n",
       "<style scoped>\n",
       "    .dataframe tbody tr th:only-of-type {\n",
       "        vertical-align: middle;\n",
       "    }\n",
       "\n",
       "    .dataframe tbody tr th {\n",
       "        vertical-align: top;\n",
       "    }\n",
       "\n",
       "    .dataframe thead th {\n",
       "        text-align: right;\n",
       "    }\n",
       "</style>\n",
       "<table border=\"1\" class=\"dataframe\">\n",
       "  <thead>\n",
       "    <tr style=\"text-align: right;\">\n",
       "      <th></th>\n",
       "      <th>ID</th>\n",
       "      <th>image_path</th>\n",
       "      <th>annotation_path_label</th>\n",
       "      <th>pathology</th>\n",
       "    </tr>\n",
       "    <tr>\n",
       "      <th>Unnamed: 0</th>\n",
       "      <th></th>\n",
       "      <th></th>\n",
       "      <th></th>\n",
       "      <th></th>\n",
       "    </tr>\n",
       "  </thead>\n",
       "  <tbody>\n",
       "    <tr>\n",
       "      <th>0</th>\n",
       "      <td>image_393.jpg</td>\n",
       "      <td>train\\images\\image_393.jpg</td>\n",
       "      <td>train\\annotation\\annotation_393.json</td>\n",
       "      <td>1</td>\n",
       "    </tr>\n",
       "    <tr>\n",
       "      <th>2</th>\n",
       "      <td>image_290.jpg</td>\n",
       "      <td>train\\images\\image_290.jpg</td>\n",
       "      <td>train\\annotation\\annotation_290.json</td>\n",
       "      <td>1</td>\n",
       "    </tr>\n",
       "    <tr>\n",
       "      <th>3</th>\n",
       "      <td>image_206.jpg</td>\n",
       "      <td>train\\images\\image_206.jpg</td>\n",
       "      <td>train\\annotation\\annotation_206.json</td>\n",
       "      <td>1</td>\n",
       "    </tr>\n",
       "    <tr>\n",
       "      <th>4</th>\n",
       "      <td>image_429.jpg</td>\n",
       "      <td>train\\images\\image_429.jpg</td>\n",
       "      <td>train\\annotation\\annotation_429.json</td>\n",
       "      <td>0</td>\n",
       "    </tr>\n",
       "    <tr>\n",
       "      <th>4</th>\n",
       "      <td>image_429.jpg</td>\n",
       "      <td>train\\images\\image_429.jpg</td>\n",
       "      <td>train\\annotation\\annotation_429.json</td>\n",
       "      <td>0</td>\n",
       "    </tr>\n",
       "  </tbody>\n",
       "</table>\n",
       "</div>"
      ],
      "text/plain": [
       "                       ID                  image_path  \\\n",
       "Unnamed: 0                                              \n",
       "0           image_393.jpg  train\\images\\image_393.jpg   \n",
       "2           image_290.jpg  train\\images\\image_290.jpg   \n",
       "3           image_206.jpg  train\\images\\image_206.jpg   \n",
       "4           image_429.jpg  train\\images\\image_429.jpg   \n",
       "4           image_429.jpg  train\\images\\image_429.jpg   \n",
       "\n",
       "                           annotation_path_label  pathology  \n",
       "Unnamed: 0                                                   \n",
       "0           train\\annotation\\annotation_393.json          1  \n",
       "2           train\\annotation\\annotation_290.json          1  \n",
       "3           train\\annotation\\annotation_206.json          1  \n",
       "4           train\\annotation\\annotation_429.json          0  \n",
       "4           train\\annotation\\annotation_429.json          0  "
      ]
     },
     "execution_count": 72,
     "metadata": {},
     "output_type": "execute_result"
    }
   ],
   "source": [
    "train_df = pd.read_excel(r'train\\balanced_dataset.xlsx', index_col='Unnamed: 0')\n",
    "train_df = train_df.sort_values('Unnamed: 0')\n",
    "print(f'Количество исследований в сбалансированном датасете: {len(train_df)}')\n",
    "train_df.head()"
   ]
  },
  {
   "cell_type": "code",
   "execution_count": 73,
   "metadata": {},
   "outputs": [
    {
     "name": "stdout",
     "output_type": "stream",
     "text": [
      "Средняя ширина: 1415.0\n",
      " Средняя высота: 1801.0\n"
     ]
    }
   ],
   "source": [
    "# Вычисление средней высоты и ширины ROI\n",
    "img_sizes = []\n",
    "for img in train_df['image_path']:\n",
    "    im = Image.open(img)\n",
    "    width, height = im.size\n",
    "    img_sizes.append([width, height])\n",
    "\n",
    "print(f'Средняя ширина: {sum(img_sizes[0]) / len(img_sizes[0])}\\n',\n",
    "      f'Средняя высота: {sum(img_sizes[1]) / len(img_sizes[1])}')"
   ]
  },
  {
   "cell_type": "code",
   "execution_count": 74,
   "metadata": {},
   "outputs": [
    {
     "ename": "error",
     "evalue": "OpenCV(4.10.0) :-1: error: (-5:Bad argument) in function 'imread'\n> Overload resolution failed:\n>  - Expected 'filename' to be a str or path-like object\n>  - Expected 'filename' to be a str or path-like object\n>  - Expected 'filename' to be a str or path-like object\n",
     "output_type": "error",
     "traceback": [
      "\u001b[1;31m---------------------------------------------------------------------------\u001b[0m",
      "\u001b[1;31merror\u001b[0m                                     Traceback (most recent call last)",
      "Cell \u001b[1;32mIn[74], line 5\u001b[0m\n\u001b[0;32m      2\u001b[0m image_path \u001b[38;5;241m=\u001b[39m train_df[\u001b[38;5;124m'\u001b[39m\u001b[38;5;124mimage_path\u001b[39m\u001b[38;5;124m'\u001b[39m][\u001b[38;5;241m383\u001b[39m]\n\u001b[0;32m      3\u001b[0m json_path \u001b[38;5;241m=\u001b[39m train_df[\u001b[38;5;124m'\u001b[39m\u001b[38;5;124mannotation_path_label\u001b[39m\u001b[38;5;124m'\u001b[39m][\u001b[38;5;241m383\u001b[39m]\n\u001b[1;32m----> 5\u001b[0m image \u001b[38;5;241m=\u001b[39m \u001b[43mcv2\u001b[49m\u001b[38;5;241;43m.\u001b[39;49m\u001b[43mimread\u001b[49m\u001b[43m(\u001b[49m\u001b[43mimage_path\u001b[49m\u001b[43m)\u001b[49m\n\u001b[0;32m      6\u001b[0m image \u001b[38;5;241m=\u001b[39m cv2\u001b[38;5;241m.\u001b[39mcvtColor(image, cv2\u001b[38;5;241m.\u001b[39mCOLOR_BGR2RGB)  \u001b[38;5;66;03m# Конвертация в RGB для корректного отображения\u001b[39;00m\n\u001b[0;32m      7\u001b[0m \u001b[38;5;28;01mwith\u001b[39;00m \u001b[38;5;28mopen\u001b[39m(json_path, \u001b[38;5;124m'\u001b[39m\u001b[38;5;124mr\u001b[39m\u001b[38;5;124m'\u001b[39m) \u001b[38;5;28;01mas\u001b[39;00m f:\n",
      "\u001b[1;31merror\u001b[0m: OpenCV(4.10.0) :-1: error: (-5:Bad argument) in function 'imread'\n> Overload resolution failed:\n>  - Expected 'filename' to be a str or path-like object\n>  - Expected 'filename' to be a str or path-like object\n>  - Expected 'filename' to be a str or path-like object\n"
     ]
    }
   ],
   "source": [
    "# Загрузка изображения и JSON\n",
    "image_path = train_df['image_path'][383]\n",
    "json_path = train_df['annotation_path_label'][383]\n",
    "\n",
    "image = cv2.imread(image_path)\n",
    "image = cv2.cvtColor(image, cv2.COLOR_BGR2RGB)  # Конвертация в RGB для корректного отображения\n",
    "with open(json_path, 'r') as f:\n",
    "    data = json.load(f)\n",
    "\n",
    "# Извлечение координат bbox\n",
    "bbox = data['annotations'][0]['bbox']\n",
    "x, y, w, h = map(int, bbox)\n",
    "\n",
    "# Рисование прямоугольника\n",
    "cv2.rectangle(image, (x, y), (x + w, y + h), (0, 255, 0), 10)\n",
    "\n",
    "# Отображение с помощью matplotlib\n",
    "plt.figure(figsize=(12, 8))\n",
    "plt.imshow(image)\n",
    "plt.axis('off')\n",
    "plt.show()"
   ]
  },
  {
   "cell_type": "code",
   "execution_count": 30,
   "metadata": {},
   "outputs": [],
   "source": [
    "# Вычисление средней высоты и ширины\n",
    "def load_bbox_wh(json_path):\n",
    "    with open(json_path, 'r') as f:\n",
    "        data = json.load(f)\n",
    "    x, y, w, h = data['annotations'][0]['bbox']\n",
    "    return w, h"
   ]
  },
  {
   "cell_type": "code",
   "execution_count": 31,
   "metadata": {},
   "outputs": [
    {
     "data": {
      "text/plain": [
       "(138.60000000000002, 130.89999999999986)"
      ]
     },
     "execution_count": 31,
     "metadata": {},
     "output_type": "execute_result"
    }
   ],
   "source": [
    "load_bbox_wh(json_path = train_df['annotation_path_label'][383])"
   ]
  },
  {
   "cell_type": "code",
   "execution_count": 65,
   "metadata": {},
   "outputs": [],
   "source": [
    "# Функция для загрузки bbox из JSON файла\n",
    "def load_bbox(json_path):\n",
    "    with open(json_path, 'r') as f:\n",
    "        data = json.load(f)\n",
    "    bbox = data['annotations'][0]['bbox']\n",
    "    return [int(x) for x in bbox]\n",
    "\n",
    "# Функция для обрезки изображения по bbox\n",
    "def crop_to_bbox(img_data):\n",
    "    image, bbox = img_data['image'], img_data['bbox']\n",
    "    y, x, h, w = bbox\n",
    "    return {'image': image[:, y:y+h, x:x+w], 'label': img_data['label']}"
   ]
  },
  {
   "cell_type": "code",
   "execution_count": 67,
   "metadata": {},
   "outputs": [
    {
     "data": {
      "text/plain": [
       "[476, 1476, 91, 64]"
      ]
     },
     "execution_count": 67,
     "metadata": {},
     "output_type": "execute_result"
    }
   ],
   "source": [
    "load_bbox(json_path=train_df['annotation_path_label'][2])"
   ]
  },
  {
   "cell_type": "markdown",
   "metadata": {},
   "source": [
    "# Как передать ROI в transform и нужно ли?"
   ]
  },
  {
   "cell_type": "code",
   "execution_count": 70,
   "metadata": {},
   "outputs": [
    {
     "ename": "OverflowError",
     "evalue": "Python int too large to convert to C long",
     "output_type": "error",
     "traceback": [
      "\u001b[1;31m---------------------------------------------------------------------------\u001b[0m",
      "\u001b[1;31mOverflowError\u001b[0m                             Traceback (most recent call last)",
      "Cell \u001b[1;32mIn[70], line 2\u001b[0m\n\u001b[0;32m      1\u001b[0m \u001b[38;5;66;03m# Создание списка трансформаций, включая обрезку по bbox    \u001b[39;00m\n\u001b[1;32m----> 2\u001b[0m train_transforms \u001b[38;5;241m=\u001b[39m \u001b[43mCompose\u001b[49m\u001b[43m(\u001b[49m\n\u001b[0;32m      3\u001b[0m \u001b[43m    \u001b[49m\u001b[43m[\u001b[49m\n\u001b[0;32m      4\u001b[0m \u001b[43m        \u001b[49m\u001b[43mLoadImage\u001b[49m\u001b[43m(\u001b[49m\u001b[43mimage_only\u001b[49m\u001b[38;5;241;43m=\u001b[39;49m\u001b[38;5;28;43;01mTrue\u001b[39;49;00m\u001b[43m)\u001b[49m\u001b[43m,\u001b[49m\n\u001b[0;32m      5\u001b[0m \u001b[43m        \u001b[49m\u001b[38;5;66;43;03m# SpatialCrop(roi_key=\"bbox\"),  # Обрезка по bbox\u001b[39;49;00m\n\u001b[0;32m      6\u001b[0m \u001b[43m        \u001b[49m\u001b[43mResize\u001b[49m\u001b[43m(\u001b[49m\u001b[43m(\u001b[49m\u001b[38;5;241;43m128\u001b[39;49m\u001b[43m,\u001b[49m\u001b[43m \u001b[49m\u001b[38;5;241;43m128\u001b[39;49m\u001b[43m)\u001b[49m\u001b[43m)\u001b[49m\u001b[43m,\u001b[49m\u001b[43m  \u001b[49m\u001b[38;5;66;43;03m# Изменение размера после обрезки\u001b[39;49;00m\n\u001b[0;32m      7\u001b[0m \u001b[43m        \u001b[49m\u001b[38;5;66;43;03m# RandRotate(range_x=15, prob=0.5), # C 50% вероятностью поворачивает изображение на 15 градусов\u001b[39;49;00m\n\u001b[0;32m      8\u001b[0m \u001b[43m        \u001b[49m\u001b[38;5;66;43;03m# RandFlip(spatial_axis=0, prob=0.5), # С 50% вероятностью отражает изображение по горизонтали\u001b[39;49;00m\n\u001b[0;32m      9\u001b[0m \u001b[43m        \u001b[49m\u001b[43mRandZoom\u001b[49m\u001b[43m(\u001b[49m\u001b[43mmin_zoom\u001b[49m\u001b[38;5;241;43m=\u001b[39;49m\u001b[38;5;241;43m0.9\u001b[39;49m\u001b[43m,\u001b[49m\u001b[43m \u001b[49m\u001b[43mmax_zoom\u001b[49m\u001b[38;5;241;43m=\u001b[39;49m\u001b[38;5;241;43m1.1\u001b[39;49m\u001b[43m,\u001b[49m\u001b[43m \u001b[49m\u001b[43mprob\u001b[49m\u001b[38;5;241;43m=\u001b[39;49m\u001b[38;5;241;43m0.5\u001b[39;49m\u001b[43m)\u001b[49m\u001b[43m,\u001b[49m\u001b[43m \u001b[49m\u001b[38;5;66;43;03m# С вероятностью 50% зумит изображение от 0.9-1.1\u001b[39;49;00m\n\u001b[0;32m     10\u001b[0m \u001b[43m        \u001b[49m\u001b[43mEnsureType\u001b[49m\u001b[43m(\u001b[49m\u001b[43m)\u001b[49m\n\u001b[0;32m     11\u001b[0m \u001b[43m    \u001b[49m\u001b[43m]\u001b[49m\n\u001b[0;32m     12\u001b[0m \u001b[43m)\u001b[49m\n",
      "File \u001b[1;32md:\\Dev\\spina_bifida\\venv\\lib\\site-packages\\monai\\transforms\\compose.py:251\u001b[0m, in \u001b[0;36mCompose.__init__\u001b[1;34m(self, transforms, map_items, unpack_items, log_stats, lazy, overrides)\u001b[0m\n\u001b[0;32m    249\u001b[0m \u001b[38;5;28mself\u001b[39m\u001b[38;5;241m.\u001b[39munpack_items \u001b[38;5;241m=\u001b[39m unpack_items\n\u001b[0;32m    250\u001b[0m \u001b[38;5;28mself\u001b[39m\u001b[38;5;241m.\u001b[39mlog_stats \u001b[38;5;241m=\u001b[39m log_stats\n\u001b[1;32m--> 251\u001b[0m \u001b[38;5;28;43mself\u001b[39;49m\u001b[38;5;241;43m.\u001b[39;49m\u001b[43mset_random_state\u001b[49m\u001b[43m(\u001b[49m\u001b[43mseed\u001b[49m\u001b[38;5;241;43m=\u001b[39;49m\u001b[43mget_seed\u001b[49m\u001b[43m(\u001b[49m\u001b[43m)\u001b[49m\u001b[43m)\u001b[49m\n\u001b[0;32m    252\u001b[0m \u001b[38;5;28mself\u001b[39m\u001b[38;5;241m.\u001b[39moverrides \u001b[38;5;241m=\u001b[39m overrides\n",
      "File \u001b[1;32md:\\Dev\\spina_bifida\\venv\\lib\\site-packages\\monai\\transforms\\compose.py:263\u001b[0m, in \u001b[0;36mCompose.set_random_state\u001b[1;34m(self, seed, state)\u001b[0m\n\u001b[0;32m    261\u001b[0m     \u001b[38;5;28;01mif\u001b[39;00m \u001b[38;5;129;01mnot\u001b[39;00m \u001b[38;5;28misinstance\u001b[39m(_transform, Randomizable):\n\u001b[0;32m    262\u001b[0m         \u001b[38;5;28;01mcontinue\u001b[39;00m\n\u001b[1;32m--> 263\u001b[0m     \u001b[43m_transform\u001b[49m\u001b[38;5;241;43m.\u001b[39;49m\u001b[43mset_random_state\u001b[49m\u001b[43m(\u001b[49m\u001b[43mseed\u001b[49m\u001b[38;5;241;43m=\u001b[39;49m\u001b[38;5;28;43mself\u001b[39;49m\u001b[38;5;241;43m.\u001b[39;49m\u001b[43mR\u001b[49m\u001b[38;5;241;43m.\u001b[39;49m\u001b[43mrandint\u001b[49m\u001b[43m(\u001b[49m\u001b[43mMAX_SEED\u001b[49m\u001b[43m,\u001b[49m\u001b[43m \u001b[49m\u001b[43mdtype\u001b[49m\u001b[38;5;241;43m=\u001b[39;49m\u001b[38;5;124;43m\"\u001b[39;49m\u001b[38;5;124;43muint32\u001b[39;49m\u001b[38;5;124;43m\"\u001b[39;49m\u001b[43m)\u001b[49m\u001b[43m)\u001b[49m\n\u001b[0;32m    264\u001b[0m \u001b[38;5;28;01mreturn\u001b[39;00m \u001b[38;5;28mself\u001b[39m\n",
      "File \u001b[1;32md:\\Dev\\spina_bifida\\venv\\lib\\site-packages\\monai\\transforms\\transform.py:207\u001b[0m, in \u001b[0;36mRandomizable.set_random_state\u001b[1;34m(self, seed, state)\u001b[0m\n\u001b[0;32m    205\u001b[0m \u001b[38;5;28;01mif\u001b[39;00m seed \u001b[38;5;129;01mis\u001b[39;00m \u001b[38;5;129;01mnot\u001b[39;00m \u001b[38;5;28;01mNone\u001b[39;00m:\n\u001b[0;32m    206\u001b[0m     _seed \u001b[38;5;241m=\u001b[39m \u001b[38;5;28mid\u001b[39m(seed) \u001b[38;5;28;01mif\u001b[39;00m \u001b[38;5;129;01mnot\u001b[39;00m \u001b[38;5;28misinstance\u001b[39m(seed, (\u001b[38;5;28mint\u001b[39m, np\u001b[38;5;241m.\u001b[39minteger)) \u001b[38;5;28;01melse\u001b[39;00m seed\n\u001b[1;32m--> 207\u001b[0m     _seed \u001b[38;5;241m=\u001b[39m \u001b[43m_seed\u001b[49m\u001b[43m \u001b[49m\u001b[38;5;241;43m%\u001b[39;49m\u001b[43m \u001b[49m\u001b[43mMAX_SEED\u001b[49m\n\u001b[0;32m    208\u001b[0m     \u001b[38;5;28mself\u001b[39m\u001b[38;5;241m.\u001b[39mR \u001b[38;5;241m=\u001b[39m np\u001b[38;5;241m.\u001b[39mrandom\u001b[38;5;241m.\u001b[39mRandomState(_seed)\n\u001b[0;32m    209\u001b[0m     \u001b[38;5;28;01mreturn\u001b[39;00m \u001b[38;5;28mself\u001b[39m\n",
      "\u001b[1;31mOverflowError\u001b[0m: Python int too large to convert to C long"
     ]
    }
   ],
   "source": [
    "# Создание списка трансформаций, включая обрезку по bbox    \n",
    "train_transforms = Compose(\n",
    "    [\n",
    "        LoadImage(image_only=True),\n",
    "        # SpatialCrop(roi_key=\"bbox\"),  # Обрезка по bbox\n",
    "        Resize((128, 128)),  # Изменение размера после обрезки\n",
    "        # RandRotate(range_x=15, prob=0.5), # C 50% вероятностью поворачивает изображение на 15 градусов\n",
    "        # RandFlip(spatial_axis=0, prob=0.5), # С 50% вероятностью отражает изображение по горизонтали\n",
    "        RandZoom(min_zoom=0.9, max_zoom=1.1, prob=0.5), # С вероятностью 50% зумит изображение от 0.9-1.1\n",
    "        EnsureType()\n",
    "    ]\n",
    ")\n"
   ]
  },
  {
   "cell_type": "code",
   "execution_count": null,
   "metadata": {},
   "outputs": [],
   "source": [
    "# Модифицированная функция для создания датасета MONAI\n",
    "def create_dataset(dataframe):\n",
    "    data = []\n",
    "    for _, row in dataframe.iterrows():\n",
    "        bbox = load_bbox(row['json_path'])  # Предполагается, что у вас есть столбец 'json_path' с путями к JSON файлам\n",
    "        x, y, w, h = bbox\n",
    "        data.append({\n",
    "            \"image\": row['image_path'],\n",
    "            \"label\": row['class'],\n",
    "            \"bbox\": (y, x, y + h, x + w)  # MONAI использует формат (start_h, start_w, end_h, end_w)\n",
    "        })\n",
    "    return Dataset(data=data, transform=train_transforms)"
   ]
  }
 ],
 "metadata": {
  "kernelspec": {
   "display_name": "venv",
   "language": "python",
   "name": "python3"
  },
  "language_info": {
   "codemirror_mode": {
    "name": "ipython",
    "version": 3
   },
   "file_extension": ".py",
   "mimetype": "text/x-python",
   "name": "python",
   "nbconvert_exporter": "python",
   "pygments_lexer": "ipython3",
   "version": "3.9.9"
  }
 },
 "nbformat": 4,
 "nbformat_minor": 2
}
