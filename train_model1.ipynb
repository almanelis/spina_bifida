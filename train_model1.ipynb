{
 "cells": [
  {
   "cell_type": "code",
   "execution_count": 18,
   "metadata": {},
   "outputs": [],
   "source": [
    "import os\n",
    "import json\n",
    "import torch\n",
    "import numpy as np\n",
    "from torch.utils.data import Dataset, DataLoader\n",
    "from monai.transforms import (\n",
    "    Compose,\n",
    "    LoadImage,\n",
    "    ScaleIntensity,\n",
    "    Resize,\n",
    "    EnsureChannelFirst,\n",
    "    RandFlip,\n",
    "    RandRotate,\n",
    "    SpatialCrop, # С 50% вероятностью отражает изображение по горизонтали\n",
    "\n",
    ")\n",
    "from monai.networks.nets import DenseNet121\n",
    "from monai.metrics import ROCAUCMetric\n",
    "from monai.handlers import CheckpointSaver, StatsHandler, TensorBoardStatsHandler\n",
    "from monai.engines import SupervisedTrainer, SupervisedEvaluator\n",
    "\n",
    "from utils import visualize_ba, visualize_distribution"
   ]
  },
  {
   "cell_type": "code",
   "execution_count": 19,
   "metadata": {},
   "outputs": [
    {
     "name": "stdout",
     "output_type": "stream",
     "text": [
      "Количество исследований: 384\n"
     ]
    },
    {
     "data": {
      "text/html": [
       "<div>\n",
       "<style scoped>\n",
       "    .dataframe tbody tr th:only-of-type {\n",
       "        vertical-align: middle;\n",
       "    }\n",
       "\n",
       "    .dataframe tbody tr th {\n",
       "        vertical-align: top;\n",
       "    }\n",
       "\n",
       "    .dataframe thead th {\n",
       "        text-align: right;\n",
       "    }\n",
       "</style>\n",
       "<table border=\"1\" class=\"dataframe\">\n",
       "  <thead>\n",
       "    <tr style=\"text-align: right;\">\n",
       "      <th></th>\n",
       "      <th>ID</th>\n",
       "      <th>image_path</th>\n",
       "      <th>annotation_path_label</th>\n",
       "      <th>pathology</th>\n",
       "    </tr>\n",
       "  </thead>\n",
       "  <tbody>\n",
       "    <tr>\n",
       "      <th>0</th>\n",
       "      <td>image_393.jpg</td>\n",
       "      <td>train/images/image_393.jpg</td>\n",
       "      <td>train/annotation/annotation_393.json</td>\n",
       "      <td>1</td>\n",
       "    </tr>\n",
       "    <tr>\n",
       "      <th>1</th>\n",
       "      <td>image_326.jpg</td>\n",
       "      <td>train/images/image_326.jpg</td>\n",
       "      <td>train/annotation/annotation_326.json</td>\n",
       "      <td>1</td>\n",
       "    </tr>\n",
       "    <tr>\n",
       "      <th>2</th>\n",
       "      <td>image_290.jpg</td>\n",
       "      <td>train/images/image_290.jpg</td>\n",
       "      <td>train/annotation/annotation_290.json</td>\n",
       "      <td>1</td>\n",
       "    </tr>\n",
       "    <tr>\n",
       "      <th>3</th>\n",
       "      <td>image_206.jpg</td>\n",
       "      <td>train/images/image_206.jpg</td>\n",
       "      <td>train/annotation/annotation_206.json</td>\n",
       "      <td>1</td>\n",
       "    </tr>\n",
       "    <tr>\n",
       "      <th>4</th>\n",
       "      <td>image_429.jpg</td>\n",
       "      <td>train/images/image_429.jpg</td>\n",
       "      <td>train/annotation/annotation_429.json</td>\n",
       "      <td>0</td>\n",
       "    </tr>\n",
       "  </tbody>\n",
       "</table>\n",
       "</div>"
      ],
      "text/plain": [
       "              ID                  image_path  \\\n",
       "0  image_393.jpg  train/images/image_393.jpg   \n",
       "1  image_326.jpg  train/images/image_326.jpg   \n",
       "2  image_290.jpg  train/images/image_290.jpg   \n",
       "3  image_206.jpg  train/images/image_206.jpg   \n",
       "4  image_429.jpg  train/images/image_429.jpg   \n",
       "\n",
       "                  annotation_path_label  pathology  \n",
       "0  train/annotation/annotation_393.json          1  \n",
       "1  train/annotation/annotation_326.json          1  \n",
       "2  train/annotation/annotation_290.json          1  \n",
       "3  train/annotation/annotation_206.json          1  \n",
       "4  train/annotation/annotation_429.json          0  "
      ]
     },
     "execution_count": 19,
     "metadata": {},
     "output_type": "execute_result"
    }
   ],
   "source": [
    "train_df = pd.read_excel(r'train/train.xlsx', index_col=0)\n",
    "# измение строк с путями\n",
    "train_df['image_path'] = train_df['image_path'].str.replace('\\\\', '/')\n",
    "train_df['annotation_path_label'] = train_df['annotation_path_label'].str.replace('\\\\', '/')\n",
    "\n",
    "print(f'Количество исследований: {len(train_df)}')\n",
    "train_df.head()"
   ]
  },
  {
   "cell_type": "code",
   "execution_count": 20,
   "metadata": {},
   "outputs": [
    {
     "data": {
      "image/png": "[encoded data removed]",
      "text/plain": [
       "<Figure size 600x400 with 1 Axes>"
      ]
     },
     "metadata": {},
     "output_type": "display_data"
    }
   ],
   "source": [
    "visualize_distribution(train_df)"
   ]
  },
  {
   "cell_type": "code",
   "execution_count": 21,
   "metadata": {},
   "outputs": [],
   "source": [
    "class XRayDataset(Dataset):\n",
    "    def __init__(self, dataframe, transforms=None):\n",
    "        self.dataframe = dataframe\n",
    "        self.transforms = transforms\n",
    "\n",
    "    def __len__(self):\n",
    "        return len(self.dataframe)\n",
    "\n",
    "    def __getitem__(self, idx):\n",
    "        row = self.dataframe.iloc[idx]\n",
    "        image_path = row['image_path']\n",
    "        json_path = row['annotation_path_label']\n",
    "        label = row['pathology']\n",
    "\n",
    "        # Load image\n",
    "        image = LoadImage()(image_path)\n",
    "        \n",
    "        # Load JSON annotation\n",
    "        with open(json_path, 'r') as f:\n",
    "            annotation = json.load(f)\n",
    "\n",
    "        # Extract bounding box if present\n",
    "        bbox = None\n",
    "        if label == 1 and 'annotations' in annotation:\n",
    "            bbox = annotation['annotations'][0]['bbox']\n",
    "\n",
    "        # Apply transforms\n",
    "        if self.transforms:\n",
    "            image = self.transforms(image)\n",
    "\n",
    "        return image, label, bbox"
   ]
  },
  {
   "cell_type": "code",
   "execution_count": 22,
   "metadata": {},
   "outputs": [],
   "source": [
    "# Define transforms\n",
    "transform = Compose([\n",
    "    LoadImage(image_only=True),\n",
    "    Resize((256, 256)),  # Изменение размера после обрезки\n",
    "    RandFlip(spatial_axis=0, prob=0.5), # С 50% вероятностью отражает изображение по горизонтали\n",
    "    RandRotate(range_x=15, prob=0.5), # C 50% вероятностью поворачивает изображение на 15 градусов\n",
    "    EnsureChannelFirst(),\n",
    "    ScaleIntensity(),\n",
    "])"
   ]
  },
  {
   "cell_type": "code",
   "execution_count": 23,
   "metadata": {},
   "outputs": [],
   "source": [
    "# Create datasets\n",
    "train_dataset = XRayDataset(train_df, transforms=transform)\n",
    "val_dataset = XRayDataset(train_df, transforms=transform)\n",
    "\n",
    "# Create data loaders\n",
    "train_loader = DataLoader(train_dataset, batch_size=32, shuffle=True)\n",
    "val_loader = DataLoader(val_dataset, batch_size=32)"
   ]
  },
  {
   "cell_type": "code",
   "execution_count": 24,
   "metadata": {},
   "outputs": [
    {
     "name": "stderr",
     "output_type": "stream",
     "text": [
      "/home/gordeevae/spina_bifida/venv/lib/python3.8/site-packages/torch/cuda/__init__.py:128: UserWarning: CUDA initialization: The NVIDIA driver on your system is too old (found version 11040). Please update your GPU driver by downloading and installing a new version from the URL: http://www.nvidia.com/Download/index.aspx Alternatively, go to: https://pytorch.org to install a PyTorch version that has been compiled with your version of the CUDA driver. (Triggered internally at ../c10/cuda/CUDAFunctions.cpp:108.)\n",
      "  return torch._C._cuda_getDeviceCount() > 0\n"
     ]
    },
    {
     "ename": "OptionalImportError",
     "evalue": "from ignite.engine import State (No module named 'ignite').\n\nFor details about installing the optional dependencies, please visit:\n    https://docs.monai.io/en/latest/installation.html#installing-the-recommended-dependencies",
     "output_type": "error",
     "traceback": [
      "\u001b[0;31m---------------------------------------------------------------------------\u001b[0m",
      "\u001b[0;31mOptionalImportError\u001b[0m                       Traceback (most recent call last)",
      "Cell \u001b[0;32mIn[24], line 14\u001b[0m\n\u001b[1;32m     11\u001b[0m auc_metric \u001b[38;5;241m=\u001b[39m ROCAUCMetric()\n\u001b[1;32m     13\u001b[0m \u001b[38;5;66;03m# Define trainer and evaluator\u001b[39;00m\n\u001b[0;32m---> 14\u001b[0m trainer \u001b[38;5;241m=\u001b[39m \u001b[43mSupervisedTrainer\u001b[49m\u001b[43m(\u001b[49m\n\u001b[1;32m     15\u001b[0m \u001b[43m    \u001b[49m\u001b[43mdevice\u001b[49m\u001b[38;5;241;43m=\u001b[39;49m\u001b[43mdevice\u001b[49m\u001b[43m,\u001b[49m\n\u001b[1;32m     16\u001b[0m \u001b[43m    \u001b[49m\u001b[43mmax_epochs\u001b[49m\u001b[38;5;241;43m=\u001b[39;49m\u001b[38;5;241;43m100\u001b[39;49m\u001b[43m,\u001b[49m\n\u001b[1;32m     17\u001b[0m \u001b[43m    \u001b[49m\u001b[43mtrain_data_loader\u001b[49m\u001b[38;5;241;43m=\u001b[39;49m\u001b[43mtrain_loader\u001b[49m\u001b[43m,\u001b[49m\n\u001b[1;32m     18\u001b[0m \u001b[43m    \u001b[49m\u001b[43mnetwork\u001b[49m\u001b[38;5;241;43m=\u001b[39;49m\u001b[43mmodel\u001b[49m\u001b[43m,\u001b[49m\n\u001b[1;32m     19\u001b[0m \u001b[43m    \u001b[49m\u001b[43moptimizer\u001b[49m\u001b[38;5;241;43m=\u001b[39;49m\u001b[43moptimizer\u001b[49m\u001b[43m,\u001b[49m\n\u001b[1;32m     20\u001b[0m \u001b[43m    \u001b[49m\u001b[43mloss_function\u001b[49m\u001b[38;5;241;43m=\u001b[39;49m\u001b[43mloss_function\u001b[49m\u001b[43m,\u001b[49m\n\u001b[1;32m     21\u001b[0m \u001b[43m    \u001b[49m\u001b[43minferer\u001b[49m\u001b[38;5;241;43m=\u001b[39;49m\u001b[38;5;28;43;01mNone\u001b[39;49;00m\u001b[43m,\u001b[49m\n\u001b[1;32m     22\u001b[0m \u001b[43m    \u001b[49m\u001b[43mamp\u001b[49m\u001b[38;5;241;43m=\u001b[39;49m\u001b[38;5;28;43;01mTrue\u001b[39;49;00m\u001b[43m,\u001b[49m\n\u001b[1;32m     23\u001b[0m \u001b[43m)\u001b[49m\n\u001b[1;32m     25\u001b[0m evaluator \u001b[38;5;241m=\u001b[39m SupervisedEvaluator(\n\u001b[1;32m     26\u001b[0m     device\u001b[38;5;241m=\u001b[39mdevice,\n\u001b[1;32m     27\u001b[0m     val_data_loader\u001b[38;5;241m=\u001b[39mval_loader,\n\u001b[0;32m   (...)\u001b[0m\n\u001b[1;32m     31\u001b[0m     metrics\u001b[38;5;241m=\u001b[39m[auc_metric],\n\u001b[1;32m     32\u001b[0m )\n",
      "File \u001b[0;32m~/spina_bifida/venv/lib/python3.8/site-packages/monai/engines/trainer.py:165\u001b[0m, in \u001b[0;36mSupervisedTrainer.__init__\u001b[0;34m(self, device, max_epochs, train_data_loader, network, optimizer, loss_function, epoch_length, non_blocking, prepare_batch, iteration_update, inferer, postprocessing, key_train_metric, additional_metrics, metric_cmp_fn, train_handlers, amp, event_names, event_to_attr, decollate, optim_set_to_none, to_kwargs, amp_kwargs, compile, compile_kwargs)\u001b[0m\n\u001b[1;32m    137\u001b[0m \u001b[38;5;28;01mdef\u001b[39;00m \u001b[38;5;21m__init__\u001b[39m(\n\u001b[1;32m    138\u001b[0m     \u001b[38;5;28mself\u001b[39m,\n\u001b[1;32m    139\u001b[0m     device: \u001b[38;5;28mstr\u001b[39m \u001b[38;5;241m|\u001b[39m torch\u001b[38;5;241m.\u001b[39mdevice,\n\u001b[0;32m   (...)\u001b[0m\n\u001b[1;32m    163\u001b[0m     compile_kwargs: \u001b[38;5;28mdict\u001b[39m \u001b[38;5;241m|\u001b[39m \u001b[38;5;28;01mNone\u001b[39;00m \u001b[38;5;241m=\u001b[39m \u001b[38;5;28;01mNone\u001b[39;00m,\n\u001b[1;32m    164\u001b[0m ) \u001b[38;5;241m-\u001b[39m\u001b[38;5;241m>\u001b[39m \u001b[38;5;28;01mNone\u001b[39;00m:\n\u001b[0;32m--> 165\u001b[0m     \u001b[38;5;28;43msuper\u001b[39;49m\u001b[43m(\u001b[49m\u001b[43m)\u001b[49m\u001b[38;5;241;43m.\u001b[39;49m\u001b[38;5;21;43m__init__\u001b[39;49m\u001b[43m(\u001b[49m\n\u001b[1;32m    166\u001b[0m \u001b[43m        \u001b[49m\u001b[43mdevice\u001b[49m\u001b[38;5;241;43m=\u001b[39;49m\u001b[43mdevice\u001b[49m\u001b[43m,\u001b[49m\n\u001b[1;32m    167\u001b[0m \u001b[43m        \u001b[49m\u001b[43mmax_epochs\u001b[49m\u001b[38;5;241;43m=\u001b[39;49m\u001b[43mmax_epochs\u001b[49m\u001b[43m,\u001b[49m\n\u001b[1;32m    168\u001b[0m \u001b[43m        \u001b[49m\u001b[43mdata_loader\u001b[49m\u001b[38;5;241;43m=\u001b[39;49m\u001b[43mtrain_data_loader\u001b[49m\u001b[43m,\u001b[49m\n\u001b[1;32m    169\u001b[0m \u001b[43m        \u001b[49m\u001b[43mepoch_length\u001b[49m\u001b[38;5;241;43m=\u001b[39;49m\u001b[43mepoch_length\u001b[49m\u001b[43m,\u001b[49m\n\u001b[1;32m    170\u001b[0m \u001b[43m        \u001b[49m\u001b[43mnon_blocking\u001b[49m\u001b[38;5;241;43m=\u001b[39;49m\u001b[43mnon_blocking\u001b[49m\u001b[43m,\u001b[49m\n\u001b[1;32m    171\u001b[0m \u001b[43m        \u001b[49m\u001b[43mprepare_batch\u001b[49m\u001b[38;5;241;43m=\u001b[39;49m\u001b[43mprepare_batch\u001b[49m\u001b[43m,\u001b[49m\n\u001b[1;32m    172\u001b[0m \u001b[43m        \u001b[49m\u001b[43miteration_update\u001b[49m\u001b[38;5;241;43m=\u001b[39;49m\u001b[43miteration_update\u001b[49m\u001b[43m,\u001b[49m\n\u001b[1;32m    173\u001b[0m \u001b[43m        \u001b[49m\u001b[43mpostprocessing\u001b[49m\u001b[38;5;241;43m=\u001b[39;49m\u001b[43mpostprocessing\u001b[49m\u001b[43m,\u001b[49m\n\u001b[1;32m    174\u001b[0m \u001b[43m        \u001b[49m\u001b[43mkey_metric\u001b[49m\u001b[38;5;241;43m=\u001b[39;49m\u001b[43mkey_train_metric\u001b[49m\u001b[43m,\u001b[49m\n\u001b[1;32m    175\u001b[0m \u001b[43m        \u001b[49m\u001b[43madditional_metrics\u001b[49m\u001b[38;5;241;43m=\u001b[39;49m\u001b[43madditional_metrics\u001b[49m\u001b[43m,\u001b[49m\n\u001b[1;32m    176\u001b[0m \u001b[43m        \u001b[49m\u001b[43mmetric_cmp_fn\u001b[49m\u001b[38;5;241;43m=\u001b[39;49m\u001b[43mmetric_cmp_fn\u001b[49m\u001b[43m,\u001b[49m\n\u001b[1;32m    177\u001b[0m \u001b[43m        \u001b[49m\u001b[43mhandlers\u001b[49m\u001b[38;5;241;43m=\u001b[39;49m\u001b[43mtrain_handlers\u001b[49m\u001b[43m,\u001b[49m\n\u001b[1;32m    178\u001b[0m \u001b[43m        \u001b[49m\u001b[43mamp\u001b[49m\u001b[38;5;241;43m=\u001b[39;49m\u001b[43mamp\u001b[49m\u001b[43m,\u001b[49m\n\u001b[1;32m    179\u001b[0m \u001b[43m        \u001b[49m\u001b[43mevent_names\u001b[49m\u001b[38;5;241;43m=\u001b[39;49m\u001b[43mevent_names\u001b[49m\u001b[43m,\u001b[49m\n\u001b[1;32m    180\u001b[0m \u001b[43m        \u001b[49m\u001b[43mevent_to_attr\u001b[49m\u001b[38;5;241;43m=\u001b[39;49m\u001b[43mevent_to_attr\u001b[49m\u001b[43m,\u001b[49m\n\u001b[1;32m    181\u001b[0m \u001b[43m        \u001b[49m\u001b[43mdecollate\u001b[49m\u001b[38;5;241;43m=\u001b[39;49m\u001b[43mdecollate\u001b[49m\u001b[43m,\u001b[49m\n\u001b[1;32m    182\u001b[0m \u001b[43m        \u001b[49m\u001b[43mto_kwargs\u001b[49m\u001b[38;5;241;43m=\u001b[39;49m\u001b[43mto_kwargs\u001b[49m\u001b[43m,\u001b[49m\n\u001b[1;32m    183\u001b[0m \u001b[43m        \u001b[49m\u001b[43mamp_kwargs\u001b[49m\u001b[38;5;241;43m=\u001b[39;49m\u001b[43mamp_kwargs\u001b[49m\u001b[43m,\u001b[49m\n\u001b[1;32m    184\u001b[0m \u001b[43m    \u001b[49m\u001b[43m)\u001b[49m\n\u001b[1;32m    185\u001b[0m     \u001b[38;5;28;01mif\u001b[39;00m \u001b[38;5;28mcompile\u001b[39m:\n\u001b[1;32m    186\u001b[0m         \u001b[38;5;28;01mif\u001b[39;00m pytorch_after(\u001b[38;5;241m2\u001b[39m, \u001b[38;5;241m1\u001b[39m):\n",
      "File \u001b[0;32m~/spina_bifida/venv/lib/python3.8/site-packages/monai/engines/workflow.py:145\u001b[0m, in \u001b[0;36mWorkflow.__init__\u001b[0;34m(self, device, max_epochs, data_loader, epoch_length, non_blocking, prepare_batch, iteration_update, postprocessing, key_metric, additional_metrics, metric_cmp_fn, handlers, amp, event_names, event_to_attr, decollate, to_kwargs, amp_kwargs)\u001b[0m\n\u001b[1;32m    142\u001b[0m         \u001b[38;5;28;01mraise\u001b[39;00m \u001b[38;5;167;01mValueError\u001b[39;00m(\u001b[38;5;124m\"\u001b[39m\u001b[38;5;124mIf data_loader is not PyTorch DataLoader, must specify the epoch_length.\u001b[39m\u001b[38;5;124m\"\u001b[39m)\n\u001b[1;32m    144\u001b[0m \u001b[38;5;66;03m# set all sharable data for the workflow based on Ignite engine.state\u001b[39;00m\n\u001b[0;32m--> 145\u001b[0m \u001b[38;5;28mself\u001b[39m\u001b[38;5;241m.\u001b[39mstate: Any \u001b[38;5;241m=\u001b[39m \u001b[43mState\u001b[49m\u001b[43m(\u001b[49m\n\u001b[1;32m    146\u001b[0m \u001b[43m    \u001b[49m\u001b[43mrank\u001b[49m\u001b[38;5;241;43m=\u001b[39;49m\u001b[43mdist\u001b[49m\u001b[38;5;241;43m.\u001b[39;49m\u001b[43mget_rank\u001b[49m\u001b[43m(\u001b[49m\u001b[43m)\u001b[49m\u001b[43m \u001b[49m\u001b[38;5;28;43;01mif\u001b[39;49;00m\u001b[43m \u001b[49m\u001b[43mdist\u001b[49m\u001b[38;5;241;43m.\u001b[39;49m\u001b[43mis_available\u001b[49m\u001b[43m(\u001b[49m\u001b[43m)\u001b[49m\u001b[43m \u001b[49m\u001b[38;5;129;43;01mand\u001b[39;49;00m\u001b[43m \u001b[49m\u001b[43mdist\u001b[49m\u001b[38;5;241;43m.\u001b[39;49m\u001b[43mis_initialized\u001b[49m\u001b[43m(\u001b[49m\u001b[43m)\u001b[49m\u001b[43m \u001b[49m\u001b[38;5;28;43;01melse\u001b[39;49;00m\u001b[43m \u001b[49m\u001b[38;5;241;43m0\u001b[39;49m\u001b[43m,\u001b[49m\n\u001b[1;32m    147\u001b[0m \u001b[43m    \u001b[49m\u001b[43mseed\u001b[49m\u001b[38;5;241;43m=\u001b[39;49m\u001b[38;5;241;43m0\u001b[39;49m\u001b[43m,\u001b[49m\n\u001b[1;32m    148\u001b[0m \u001b[43m    \u001b[49m\u001b[43miteration\u001b[49m\u001b[38;5;241;43m=\u001b[39;49m\u001b[38;5;241;43m0\u001b[39;49m\u001b[43m,\u001b[49m\n\u001b[1;32m    149\u001b[0m \u001b[43m    \u001b[49m\u001b[43mepoch\u001b[49m\u001b[38;5;241;43m=\u001b[39;49m\u001b[38;5;241;43m0\u001b[39;49m\u001b[43m,\u001b[49m\n\u001b[1;32m    150\u001b[0m \u001b[43m    \u001b[49m\u001b[43mmax_epochs\u001b[49m\u001b[38;5;241;43m=\u001b[39;49m\u001b[43mmax_epochs\u001b[49m\u001b[43m,\u001b[49m\n\u001b[1;32m    151\u001b[0m \u001b[43m    \u001b[49m\u001b[43mepoch_length\u001b[49m\u001b[38;5;241;43m=\u001b[39;49m\u001b[43mepoch_length\u001b[49m\u001b[43m,\u001b[49m\n\u001b[1;32m    152\u001b[0m \u001b[43m    \u001b[49m\u001b[43moutput\u001b[49m\u001b[38;5;241;43m=\u001b[39;49m\u001b[38;5;28;43;01mNone\u001b[39;49;00m\u001b[43m,\u001b[49m\n\u001b[1;32m    153\u001b[0m \u001b[43m    \u001b[49m\u001b[43mbatch\u001b[49m\u001b[38;5;241;43m=\u001b[39;49m\u001b[38;5;28;43;01mNone\u001b[39;49;00m\u001b[43m,\u001b[49m\n\u001b[1;32m    154\u001b[0m \u001b[43m    \u001b[49m\u001b[43mmetrics\u001b[49m\u001b[38;5;241;43m=\u001b[39;49m\u001b[43m{\u001b[49m\u001b[43m}\u001b[49m\u001b[43m,\u001b[49m\n\u001b[1;32m    155\u001b[0m \u001b[43m    \u001b[49m\u001b[43mmetric_details\u001b[49m\u001b[38;5;241;43m=\u001b[39;49m\u001b[43m{\u001b[49m\u001b[43m}\u001b[49m\u001b[43m,\u001b[49m\n\u001b[1;32m    156\u001b[0m \u001b[43m    \u001b[49m\u001b[43mdataloader\u001b[49m\u001b[38;5;241;43m=\u001b[39;49m\u001b[38;5;28;43;01mNone\u001b[39;49;00m\u001b[43m,\u001b[49m\n\u001b[1;32m    157\u001b[0m \u001b[43m    \u001b[49m\u001b[43mdevice\u001b[49m\u001b[38;5;241;43m=\u001b[39;49m\u001b[43mdevice\u001b[49m\u001b[43m \u001b[49m\u001b[38;5;28;43;01mif\u001b[39;49;00m\u001b[43m \u001b[49m\u001b[38;5;28;43misinstance\u001b[39;49m\u001b[43m(\u001b[49m\u001b[43mdevice\u001b[49m\u001b[43m,\u001b[49m\u001b[43m \u001b[49m\u001b[43mtorch\u001b[49m\u001b[38;5;241;43m.\u001b[39;49m\u001b[43mdevice\u001b[49m\u001b[43m)\u001b[49m\u001b[43m \u001b[49m\u001b[38;5;129;43;01mor\u001b[39;49;00m\u001b[43m \u001b[49m\u001b[43mdevice\u001b[49m\u001b[43m \u001b[49m\u001b[38;5;129;43;01mis\u001b[39;49;00m\u001b[43m \u001b[49m\u001b[38;5;28;43;01mNone\u001b[39;49;00m\u001b[43m \u001b[49m\u001b[38;5;28;43;01melse\u001b[39;49;00m\u001b[43m \u001b[49m\u001b[43mtorch\u001b[49m\u001b[38;5;241;43m.\u001b[39;49m\u001b[43mdevice\u001b[49m\u001b[43m(\u001b[49m\u001b[43mdevice\u001b[49m\u001b[43m)\u001b[49m\u001b[43m,\u001b[49m\n\u001b[1;32m    158\u001b[0m \u001b[43m    \u001b[49m\u001b[43mkey_metric_name\u001b[49m\u001b[38;5;241;43m=\u001b[39;49m\u001b[38;5;28;43;01mNone\u001b[39;49;00m\u001b[43m,\u001b[49m\u001b[43m  \u001b[49m\u001b[38;5;66;43;03m# we can set many metrics, only use key_metric to compare and save the best model\u001b[39;49;00m\n\u001b[1;32m    159\u001b[0m \u001b[43m    \u001b[49m\u001b[43mbest_metric\u001b[49m\u001b[38;5;241;43m=\u001b[39;49m\u001b[38;5;241;43m-\u001b[39;49m\u001b[38;5;241;43m1\u001b[39;49m\u001b[43m,\u001b[49m\n\u001b[1;32m    160\u001b[0m \u001b[43m    \u001b[49m\u001b[43mbest_metric_epoch\u001b[49m\u001b[38;5;241;43m=\u001b[39;49m\u001b[38;5;241;43m-\u001b[39;49m\u001b[38;5;241;43m1\u001b[39;49m\u001b[43m,\u001b[49m\n\u001b[1;32m    161\u001b[0m \u001b[43m\u001b[49m\u001b[43m)\u001b[49m\n\u001b[1;32m    162\u001b[0m \u001b[38;5;28mself\u001b[39m\u001b[38;5;241m.\u001b[39mdata_loader \u001b[38;5;241m=\u001b[39m data_loader\n\u001b[1;32m    163\u001b[0m \u001b[38;5;28mself\u001b[39m\u001b[38;5;241m.\u001b[39mnon_blocking \u001b[38;5;241m=\u001b[39m non_blocking\n",
      "File \u001b[0;32m~/spina_bifida/venv/lib/python3.8/site-packages/monai/utils/module.py:448\u001b[0m, in \u001b[0;36moptional_import.<locals>._LazyRaise.__call__\u001b[0;34m(self, *_args, **_kwargs)\u001b[0m\n\u001b[1;32m    443\u001b[0m \u001b[38;5;28;01mdef\u001b[39;00m \u001b[38;5;21m__call__\u001b[39m(\u001b[38;5;28mself\u001b[39m, \u001b[38;5;241m*\u001b[39m_args, \u001b[38;5;241m*\u001b[39m\u001b[38;5;241m*\u001b[39m_kwargs):\n\u001b[1;32m    444\u001b[0m \u001b[38;5;250m    \u001b[39m\u001b[38;5;124;03m\"\"\"\u001b[39;00m\n\u001b[1;32m    445\u001b[0m \u001b[38;5;124;03m    Raises:\u001b[39;00m\n\u001b[1;32m    446\u001b[0m \u001b[38;5;124;03m        OptionalImportError: When you call this method.\u001b[39;00m\n\u001b[1;32m    447\u001b[0m \u001b[38;5;124;03m    \"\"\"\u001b[39;00m\n\u001b[0;32m--> 448\u001b[0m     \u001b[38;5;28;01mraise\u001b[39;00m \u001b[38;5;28mself\u001b[39m\u001b[38;5;241m.\u001b[39m_exception\n",
      "File \u001b[0;32m~/spina_bifida/venv/lib/python3.8/site-packages/monai/utils/module.py:399\u001b[0m, in \u001b[0;36moptional_import\u001b[0;34m(module, version, version_checker, name, descriptor, version_args, allow_namespace_pkg, as_type)\u001b[0m\n\u001b[1;32m    397\u001b[0m     actual_cmd \u001b[38;5;241m=\u001b[39m \u001b[38;5;124mf\u001b[39m\u001b[38;5;124m\"\u001b[39m\u001b[38;5;124mimport \u001b[39m\u001b[38;5;132;01m{\u001b[39;00mmodule\u001b[38;5;132;01m}\u001b[39;00m\u001b[38;5;124m\"\u001b[39m\n\u001b[1;32m    398\u001b[0m \u001b[38;5;28;01mtry\u001b[39;00m:\n\u001b[0;32m--> 399\u001b[0m     pkg \u001b[38;5;241m=\u001b[39m \u001b[38;5;28;43m__import__\u001b[39;49m\u001b[43m(\u001b[49m\u001b[43mmodule\u001b[49m\u001b[43m)\u001b[49m  \u001b[38;5;66;03m# top level module\u001b[39;00m\n\u001b[1;32m    400\u001b[0m     the_module \u001b[38;5;241m=\u001b[39m import_module(module)\n\u001b[1;32m    401\u001b[0m     \u001b[38;5;28;01mif\u001b[39;00m \u001b[38;5;129;01mnot\u001b[39;00m allow_namespace_pkg:\n",
      "\u001b[0;31mOptionalImportError\u001b[0m: from ignite.engine import State (No module named 'ignite').\n\nFor details about installing the optional dependencies, please visit:\n    https://docs.monai.io/en/latest/installation.html#installing-the-recommended-dependencies"
     ]
    }
   ],
   "source": [
    "# Определение устройства\n",
    "device = torch.device(\"cuda\" if torch.cuda.is_available() else \"cpu\")\n",
    "# Define model\n",
    "model = DenseNet121(spatial_dims=2, in_channels=1, out_channels=1).to(device)\n",
    "\n",
    "# Define loss function and optimizer\n",
    "loss_function = torch.nn.BCEWithLogitsLoss()\n",
    "optimizer = torch.optim.Adam(model.parameters(), 1e-4)\n",
    "\n",
    "# Define metrics\n",
    "auc_metric = ROCAUCMetric()\n",
    "\n",
    "# Define trainer and evaluator\n",
    "trainer = SupervisedTrainer(\n",
    "    device=device,\n",
    "    max_epochs=100,\n",
    "    train_data_loader=train_loader,\n",
    "    network=model,\n",
    "    optimizer=optimizer,\n",
    "    loss_function=loss_function,\n",
    "    inferer=None,\n",
    "    amp=True,\n",
    ")\n",
    "\n",
    "evaluator = SupervisedEvaluator(\n",
    "    device=device,\n",
    "    val_data_loader=val_loader,\n",
    "    network=model,\n",
    "    inferer=None,\n",
    "    postprocessing=None,\n",
    "    metrics=[auc_metric],\n",
    ")"
   ]
  },
  {
   "cell_type": "code",
   "execution_count": null,
   "metadata": {},
   "outputs": [],
   "source": [
    "# Add handlers\n",
    "train_stats_handler = StatsHandler(output_transform=lambda x: x[\"loss\"])\n",
    "train_tensorboard_stats_handler = TensorBoardStatsHandler(log_dir=\"tensorboard_logs\")\n",
    "val_stats_handler = StatsHandler(output_transform=lambda x: None)\n",
    "val_tensorboard_stats_handler = TensorBoardStatsHandler(log_dir=\"tensorboard_logs\")\n",
    "checkpoint_saver = CheckpointSaver(save_dir=\"checkpoints\", save_dict={\"model\": model}, save_key_metric=True)\n",
    "\n",
    "trainer.add_event_handler(StatsHandler.OUTPUT_TRANSFORM, train_stats_handler)\n",
    "trainer.add_event_handler(StatsHandler.OUTPUT_TRANSFORM, train_tensorboard_stats_handler)\n",
    "evaluator.add_event_handler(StatsHandler.OUTPUT_TRANSFORM, val_stats_handler)\n",
    "evaluator.add_event_handler(StatsHandler.OUTPUT_TRANSFORM, val_tensorboard_stats_handler)\n",
    "evaluator.add_event_handler(StatsHandler.OUTPUT_TRANSFORM, checkpoint_saver)"
   ]
  },
  {
   "cell_type": "code",
   "execution_count": null,
   "metadata": {},
   "outputs": [],
   "source": [
    "# Run training\n",
    "trainer.run()"
   ]
  },
  {
   "cell_type": "code",
   "execution_count": null,
   "metadata": {},
   "outputs": [],
   "source": [
    "# Evaluate the model on the validation set\n",
    "eval_result = evaluator.run(val_loader)\n",
    "\n",
    "# Print metrics\n",
    "print(\"Validation metrics:\")\n",
    "for metric, value in eval_result.items():\n",
    "    print(f\"{metric}: {value}\")\n",
    "\n",
    "# If you want more detailed AUC information\n",
    "auc_result = auc_metric.aggregate()\n",
    "print(f\"AUC: {auc_result}\")\n",
    "\n",
    "# You can also save these metrics to a file\n",
    "with open('validation_results.txt', 'w') as f:\n",
    "    f.write(\"Validation metrics:\\n\")\n",
    "    for metric, value in eval_result.items():\n",
    "        f.write(f\"{metric}: {value}\\n\")\n",
    "    f.write(f\"AUC: {auc_result}\\n\")\n",
    "\n",
    "# If you want to plot the ROC curve\n",
    "import matplotlib.pyplot as plt\n",
    "from sklearn.metrics import roc_curve, auc\n",
    "\n",
    "# Get predictions and ground truth from the metric\n",
    "y_pred, y_true = auc_metric.get_buffer()\n",
    "\n",
    "# Calculate ROC curve and AUC\n",
    "fpr, tpr, _ = roc_curve(y_true, y_pred)\n",
    "roc_auc = auc(fpr, tpr)\n",
    "\n",
    "# Plot ROC curve\n",
    "plt.figure()\n",
    "plt.plot(fpr, tpr, color='darkorange', lw=2, label=f'ROC curve (AUC = {roc_auc:.2f})')\n",
    "plt.plot([0, 1], [0, 1], color='navy', lw=2, linestyle='--')\n",
    "plt.xlim([0.0, 1.0])\n",
    "plt.ylim([0.0, 1.05])\n",
    "plt.xlabel('False Positive Rate')\n",
    "plt.ylabel('True Positive Rate')\n",
    "plt.title('Receiver Operating Characteristic (ROC) Curve')\n",
    "plt.legend(loc=\"lower right\")\n",
    "plt.savefig('roc_curve.png')\n",
    "plt.close()\n",
    "\n",
    "print(\"Evaluation complete. Results saved to 'validation_results.txt' and ROC curve saved to 'roc_curve.png'.\")"
   ]
  }
 ],
 "metadata": {
  "kernelspec": {
   "display_name": "venv",
   "language": "python",
   "name": "python3"
  },
  "language_info": {
   "codemirror_mode": {
    "name": "ipython",
    "version": 3
   },
   "file_extension": ".py",
   "mimetype": "text/x-python",
   "name": "python",
   "nbconvert_exporter": "python",
   "pygments_lexer": "ipython3",
   "version": "3.8.10"
  }
 },
 "nbformat": 4,
 "nbformat_minor": 2
}
