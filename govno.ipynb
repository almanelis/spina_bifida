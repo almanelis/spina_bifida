{
 "cells": [
  {
   "cell_type": "code",
   "execution_count": 3,
   "metadata": {},
   "outputs": [],
   "source": [
    "import pandas as pd\n",
    "import json"
   ]
  },
  {
   "cell_type": "code",
   "execution_count": 2,
   "metadata": {},
   "outputs": [
    {
     "data": {
      "text/html": [
       "<div>\n",
       "<style scoped>\n",
       "    .dataframe tbody tr th:only-of-type {\n",
       "        vertical-align: middle;\n",
       "    }\n",
       "\n",
       "    .dataframe tbody tr th {\n",
       "        vertical-align: top;\n",
       "    }\n",
       "\n",
       "    .dataframe thead th {\n",
       "        text-align: right;\n",
       "    }\n",
       "</style>\n",
       "<table border=\"1\" class=\"dataframe\">\n",
       "  <thead>\n",
       "    <tr style=\"text-align: right;\">\n",
       "      <th></th>\n",
       "      <th>Unnamed: 0</th>\n",
       "      <th>ID</th>\n",
       "      <th>image_path</th>\n",
       "      <th>annotation_path_label</th>\n",
       "      <th>pathology</th>\n",
       "    </tr>\n",
       "  </thead>\n",
       "  <tbody>\n",
       "    <tr>\n",
       "      <th>0</th>\n",
       "      <td>0</td>\n",
       "      <td>image_393.jpg</td>\n",
       "      <td>train\\images\\image_393.jpg</td>\n",
       "      <td>train\\annotation\\annotation_393.json</td>\n",
       "      <td>1</td>\n",
       "    </tr>\n",
       "    <tr>\n",
       "      <th>1</th>\n",
       "      <td>1</td>\n",
       "      <td>image_326.jpg</td>\n",
       "      <td>train\\images\\image_326.jpg</td>\n",
       "      <td>train\\annotation\\annotation_326.json</td>\n",
       "      <td>1</td>\n",
       "    </tr>\n",
       "    <tr>\n",
       "      <th>2</th>\n",
       "      <td>2</td>\n",
       "      <td>image_290.jpg</td>\n",
       "      <td>train\\images\\image_290.jpg</td>\n",
       "      <td>train\\annotation\\annotation_290.json</td>\n",
       "      <td>1</td>\n",
       "    </tr>\n",
       "    <tr>\n",
       "      <th>3</th>\n",
       "      <td>3</td>\n",
       "      <td>image_206.jpg</td>\n",
       "      <td>train\\images\\image_206.jpg</td>\n",
       "      <td>train\\annotation\\annotation_206.json</td>\n",
       "      <td>1</td>\n",
       "    </tr>\n",
       "    <tr>\n",
       "      <th>4</th>\n",
       "      <td>4</td>\n",
       "      <td>image_429.jpg</td>\n",
       "      <td>train\\images\\image_429.jpg</td>\n",
       "      <td>train\\annotation\\annotation_429.json</td>\n",
       "      <td>0</td>\n",
       "    </tr>\n",
       "  </tbody>\n",
       "</table>\n",
       "</div>"
      ],
      "text/plain": [
       "   Unnamed: 0             ID                  image_path  \\\n",
       "0           0  image_393.jpg  train\\images\\image_393.jpg   \n",
       "1           1  image_326.jpg  train\\images\\image_326.jpg   \n",
       "2           2  image_290.jpg  train\\images\\image_290.jpg   \n",
       "3           3  image_206.jpg  train\\images\\image_206.jpg   \n",
       "4           4  image_429.jpg  train\\images\\image_429.jpg   \n",
       "\n",
       "                  annotation_path_label  pathology  \n",
       "0  train\\annotation\\annotation_393.json          1  \n",
       "1  train\\annotation\\annotation_326.json          1  \n",
       "2  train\\annotation\\annotation_290.json          1  \n",
       "3  train\\annotation\\annotation_206.json          1  \n",
       "4  train\\annotation\\annotation_429.json          0  "
      ]
     },
     "execution_count": 2,
     "metadata": {},
     "output_type": "execute_result"
    }
   ],
   "source": [
    "df = pd.read_excel(r'train/train.xlsx')\n",
    "df.head()"
   ]
  },
  {
   "cell_type": "code",
   "execution_count": 12,
   "metadata": {},
   "outputs": [],
   "source": [
    "df['annotation_path_label'] = df['annotation_path_label'].str.replace('\\\\', '/')"
   ]
  },
  {
   "cell_type": "code",
   "execution_count": null,
   "metadata": {},
   "outputs": [],
   "source": [
    "for annotation_path in df['annotation_path_label']:\n",
    "    "
   ]
  },
  {
   "cell_type": "code",
   "execution_count": null,
   "metadata": {},
   "outputs": [],
   "source": []
  },
  {
   "cell_type": "code",
   "execution_count": 36,
   "metadata": {},
   "outputs": [],
   "source": [
    "def get_bbox(annotaion_path):\n",
    "    with open(annotaion_path, 'r') as f:\n",
    "            data = json.load(f)\n",
    "            data = data['annotations'][0]\n",
    "            has_bbox = 'bbox' in data\n",
    "            return has_bbox\n",
    "            # bbox = bbox_data['annotations'][0]['bbox']"
   ]
  },
  {
   "cell_type": "code",
   "execution_count": 37,
   "metadata": {},
   "outputs": [
    {
     "data": {
      "text/plain": [
       "False"
      ]
     },
     "execution_count": 37,
     "metadata": {},
     "output_type": "execute_result"
    }
   ],
   "source": [
    "get_bbox(df['annotation_path_label'][7])"
   ]
  },
  {
   "cell_type": "code",
   "execution_count": 38,
   "metadata": {},
   "outputs": [
    {
     "name": "stdout",
     "output_type": "stream",
     "text": [
      "217\n"
     ]
    },
    {
     "data": {
      "text/plain": [
       "262"
      ]
     },
     "execution_count": 38,
     "metadata": {},
     "output_type": "execute_result"
    }
   ],
   "source": [
    "count = 0\n",
    "for idx, annotation_path in enumerate(df['annotation_path_label']):\n",
    "    try:\n",
    "        annotation_path = annotation_path.replace('\\\\', '/')\n",
    "        if get_bbox(annotation_path):\n",
    "            count += 1\n",
    "    except:\n",
    "        print(idx)\n",
    "    \n",
    "\n",
    "count"
   ]
  },
  {
   "cell_type": "code",
   "execution_count": 23,
   "metadata": {},
   "outputs": [
    {
     "data": {
      "text/plain": [
       "Unnamed: 0                                     217\n",
       "ID                                   image_300.jpg\n",
       "image_path               test\\images\\image_300.jpg\n",
       "annotation_path_label             label: 0 (norma)\n",
       "pathology                                        0\n",
       "Name: 217, dtype: object"
      ]
     },
     "execution_count": 23,
     "metadata": {},
     "output_type": "execute_result"
    }
   ],
   "source": [
    "df.iloc[217]"
   ]
  },
  {
   "cell_type": "code",
   "execution_count": 39,
   "metadata": {},
   "outputs": [
    {
     "data": {
      "text/plain": [
       "[590.16, 1705.25, 142.88, 100.6400000000001]"
      ]
     },
     "execution_count": 39,
     "metadata": {},
     "output_type": "execute_result"
    }
   ],
   "source": [
    "with open('/home/gordeevae/spina_bifida/train/annotation/annotation_300.json', 'r') as f:\n",
    "    data = json.load(f)\n",
    "    data = data['annotations'][0]['bbox']\n",
    "\n",
    "data"
   ]
  },
  {
   "cell_type": "code",
   "execution_count": null,
   "metadata": {},
   "outputs": [],
   "source": []
  }
 ],
 "metadata": {
  "kernelspec": {
   "display_name": "venv",
   "language": "python",
   "name": "python3"
  },
  "language_info": {
   "codemirror_mode": {
    "name": "ipython",
    "version": 3
   },
   "file_extension": ".py",
   "mimetype": "text/x-python",
   "name": "python",
   "nbconvert_exporter": "python",
   "pygments_lexer": "ipython3",
   "version": "3.8.10"
  }
 },
 "nbformat": 4,
 "nbformat_minor": 2
}
